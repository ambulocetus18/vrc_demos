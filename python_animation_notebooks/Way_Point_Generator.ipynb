{
  "nbformat": 4,
  "nbformat_minor": 0,
  "metadata": {
    "kernelspec": {
      "display_name": "Python 3",
      "language": "python",
      "name": "python3"
    },
    "language_info": {
      "codemirror_mode": {
        "name": "ipython",
        "version": 3
      },
      "file_extension": ".py",
      "mimetype": "text/x-python",
      "name": "python",
      "nbconvert_exporter": "python",
      "pygments_lexer": "ipython3",
      "version": "3.8.3"
    },
    "colab": {
      "provenance": []
    }
  },
  "cells": [
    {
      "cell_type": "markdown",
      "metadata": {
        "id": "2IxTAZ0vVxAH"
      },
      "source": [
        "## Way Point Generator\n",
        "Heavily insipred by the work of FRC team 2168\n",
        "* [Their code](https://github.com/KHEngineering/SmoothPathPlanner/blob/11059aa2ec314ba20b364aeea3c968aca2672b49/src/usfirst/frc/team2168/robot/FalconPathPlanner.java#L214)\n",
        "\n",
        "This notebook is created by Sarah Xiang from VRC team 97963A"
      ]
    },
    {
      "cell_type": "code",
      "metadata": {
        "id": "1fEM19wkVxAI"
      },
      "source": [
        "import numpy as np\n",
        "import matplotlib.pyplot as plt\n",
        "import math\n",
        "import matplotlib"
      ],
      "execution_count": 1,
      "outputs": []
    },
    {
      "cell_type": "markdown",
      "metadata": {
        "id": "L5e4tJL5VxAJ"
      },
      "source": [
        "## Graphing helper functions"
      ]
    },
    {
      "cell_type": "code",
      "metadata": {
        "id": "F21ntpijVxAK"
      },
      "source": [
        "def add_line (path) :\n",
        "    for i in range (0,len(path)):\n",
        "        plt.plot(path[i][0],path[i][1],'.',color='red',markersize=10)\n",
        "    \n",
        "    for i in range(0,len(path)-1):\n",
        "        plt.plot([path[i][0],path[i+1][0]],[path[i][1],path[i+1][1]],color='b')\n",
        "    \n",
        "    plt.axis('scaled')\n",
        "    # plt.show()\n",
        "    \n",
        "def add_complicated_line (path,lineStyle,lineColor,lineLabel) :\n",
        "    for i in range (0,len(path)):\n",
        "        plt.plot(path[i][0],path[i][1],'.',color='red',markersize=10)\n",
        "    \n",
        "    for i in range(0,len(path)-1):        \n",
        "        if(i == 0):\n",
        "            # plt.plot([path[i][0],path[i+1][0]],[path[i][1],path[i+1][1]],color='b')\n",
        "            plt.plot([path[i][0],path[i+1][0]],[path[i][1],path[i+1][1]],lineStyle,color=lineColor,label=lineLabel)\n",
        "        else:\n",
        "            plt.plot([path[i][0],path[i+1][0]],[path[i][1],path[i+1][1]],lineStyle,color=lineColor)\n",
        "    \n",
        "    plt.axis('scaled')\n",
        "    \n",
        "def highlight_points (points, pointColor):\n",
        "    for point in points :\n",
        "        plt.plot(point[0], point[1], '.', color = pointColor, markersize = 10)\n",
        "        \n",
        "def draw_circle (x, y, r, circleColor):\n",
        "    xs = []\n",
        "    ys = []\n",
        "    angles = np.arange(0, 2.2*np.pi, 0.5)\n",
        "    \n",
        "    for angle in angles :\n",
        "        xs.append(r*np.cos(angle) + x)\n",
        "        ys.append(r*np.sin(angle) + y)\n",
        "    \n",
        "    plt.plot(xs, ys, '-', color = circleColor)"
      ],
      "execution_count": 2,
      "outputs": []
    },
    {
      "cell_type": "markdown",
      "metadata": {
        "id": "_WKfgM8vVxAK"
      },
      "source": [
        "## Injecting points"
      ]
    },
    {
      "cell_type": "code",
      "metadata": {
        "id": "ZZXBRKnsVxAL"
      },
      "source": [
        "# specify num of points for each path\n",
        "def add_more_points (path,num_of_points):\n",
        "    new_path = []\n",
        "    \n",
        "    for i in range (0,len(path)-1):\n",
        "        segment_x = (path[i+1][0] - path[i][0])/num_of_points\n",
        "        segment_y = (path[i+1][1] - path[i][1])/num_of_points\n",
        "        for j in range (0,num_of_points):\n",
        "            new_point = [(path[i][0] + j*segment_x),(path[i][1] + j*segment_y)]\n",
        "            new_path.append(new_point)\n",
        "    \n",
        "    new_path.append(path[-1])\n",
        "    \n",
        "    return new_path\n",
        "\n",
        "# specify the distance between adjacent points\n",
        "def add_more_points2 (path,segment_length):\n",
        "    new_path = []\n",
        "    \n",
        "    for i in range (0,len(path)-1):\n",
        "        \n",
        "        distance = np.sqrt((path[i+1][0] - path[i][0])**2 + (path[i+1][1] - path[i][1])**2)\n",
        "        num_of_points = int(round(distance/segment_length))\n",
        "        \n",
        "        if num_of_points == 0:\n",
        "            new_path.append(path[i])\n",
        "            \n",
        "        else:\n",
        "            segment_x = (path[i+1][0] - path[i][0]) / num_of_points\n",
        "            segment_y = (path[i+1][1] - path[i][1]) / num_of_points\n",
        "\n",
        "            for j in range (0,num_of_points):\n",
        "                new_point = [(path[i][0] + j*segment_x),(path[i][1] + j*segment_y)]\n",
        "                new_path.append(new_point)\n",
        "    \n",
        "    new_path.append(path[-1])\n",
        "    \n",
        "    return new_path "
      ],
      "execution_count": 3,
      "outputs": []
    },
    {
      "cell_type": "markdown",
      "metadata": {
        "id": "5sj-2tVjVxAL"
      },
      "source": [
        "## Smoothing\n",
        "Original Java code by FRC team 2168.\n",
        "Link: https://github.com/KHEngineering/SmoothPathPlanner/blob/11059aa2ec314ba20b364aeea3c968aca2672b49/src/usfirst/frc/team2168/robot/FalconPathPlanner.java#L214"
      ]
    },
    {
      "cell_type": "code",
      "metadata": {
        "id": "4fHmnfPmVxAL"
      },
      "source": [
        "# reference value 0.1, 0.3, 0.00001\n",
        "def smoothing (path,weight_data,weight_smooth,tolerance):\n",
        "    \n",
        "    smoothed_path = path.copy()\n",
        "    change = tolerance\n",
        "    \n",
        "    while change >= tolerance :\n",
        "        change = 0.0\n",
        "\n",
        "        for i in range (1,len(path)-1):\n",
        "            \n",
        "            for j in range (0,len(path[i])):\n",
        "                aux = smoothed_path[i][j]\n",
        "\n",
        "                smoothed_path[i][j] += weight_data * (path[i][j] - smoothed_path[i][j]) + weight_smooth * (smoothed_path[i-1][j] + smoothed_path[i+1][j] - (2.0 * smoothed_path[i][j]))\n",
        "                change += np.abs(aux - smoothed_path[i][j])\n",
        "                \n",
        "    return smoothed_path\n",
        "\n",
        "def sgn (num):\n",
        "  if num >= 0:\n",
        "    return 1\n",
        "  else:\n",
        "    return -1\n",
        "\n",
        "def findMinAngle (absTargetAngle, currentHeading) :\n",
        "\n",
        "  minAngle = absTargetAngle - currentHeading\n",
        "\n",
        "  if minAngle > 180 or minAngle < -180 :\n",
        "    minAngle = -1 * sgn(minAngle) * (360 - abs(minAngle))\n",
        "  \n",
        "  return minAngle\n",
        "\n",
        "def autoSmooth (path, maxAngle) :\n",
        "  currentMax = 0\n",
        "  param = 0.01\n",
        "  new_path = path\n",
        "  firstLoop = True\n",
        "\n",
        "  counter = 0\n",
        "\n",
        "  while (currentMax >= maxAngle or firstLoop == True) : # and counter <= 15 :\n",
        "\n",
        "    param += 0.01\n",
        "    firstLoop = False\n",
        "\n",
        "    # counter += 1\n",
        "    # print('this is the {} iteration'.format(counter))\n",
        "\n",
        "    new_path = smoothing (path, 0.1, param, 0.1)\n",
        "    currentMax = 0\n",
        "\n",
        "    for i in range (1, len(new_path)-2) :\n",
        "      angle1 = math.atan2(new_path[i][1] - new_path[i-1][1], new_path[i][0] - new_path[i-1][0]) *180/np.pi\n",
        "      if angle1 < 0 : angle1 += 360\n",
        "      angle2 = math.atan2(new_path[i+1][1] - new_path[i][1], new_path[i+1][0] - new_path[i][0]) *180/np.pi\n",
        "      if angle2 < 0 : angle2 += 360\n",
        "\n",
        "      if abs(findMinAngle(angle2, angle1)) > currentMax :\n",
        "        currentMax = abs(findMinAngle(angle2, angle1))\n",
        "  \n",
        "  return new_path"
      ],
      "execution_count": 4,
      "outputs": []
    },
    {
      "cell_type": "markdown",
      "metadata": {
        "id": "YrevRcs_VxAN"
      },
      "source": [
        "## Visualizing"
      ]
    },
    {
      "cell_type": "code",
      "metadata": {
        "id": "OPj1qmqJVxAN"
      },
      "source": [
        "# also smooth path and add more points\n",
        "def path_visualizer (orig_path, fig_size, field_size, segment_length, maxAngle):\n",
        "    \n",
        "    path = add_more_points2(orig_path,segment_length)\n",
        "    path = autoSmooth (path, maxAngle)\n",
        "    \n",
        "    field = plt.figure()\n",
        "    xscale,yscale = fig_size\n",
        "    path_ax = field.add_axes([0,0,xscale,yscale])\n",
        "    add_complicated_line(orig_path,'--','grey','original')\n",
        "    add_complicated_line(path,'--','orange','smoothed')\n",
        "    \n",
        "    xMin, yMin, xMax, yMax = field_size\n",
        "    \n",
        "    # plot field\n",
        "    path_ax.plot([xMin,xMax],[yMin,yMin],color='black')\n",
        "    path_ax.plot([xMin,xMin],[yMin,yMax],color='black')\n",
        "    path_ax.plot([xMax,xMax],[yMin,yMax],color='black')\n",
        "    path_ax.plot([xMax,xMin],[yMax,yMax],color='black')\n",
        "    \n",
        "    # set grid\n",
        "    xTicks = np.arange(xMin, xMax+1, 2)\n",
        "    yTicks = np.arange(yMin, yMax+1, 2)\n",
        "    \n",
        "    path_ax.set_xticks(xTicks)\n",
        "    path_ax.set_yticks(yTicks)\n",
        "    path_ax.grid(True)\n",
        "    \n",
        "    path_ax.set_xlim(xMin-0.25,xMax+0.25)\n",
        "    path_ax.set_ylim(yMin-0.25,yMax+0.25)\n",
        "    \n",
        "    # plot start and end\n",
        "    path_ax.plot(path[0][0],path[0][1],'.',color='blue',markersize=15,label='start')\n",
        "    path_ax.plot(path[-1][0],path[-1][1],'.',color='green',markersize=15,label='end')\n",
        "    path_ax.legend()\n",
        "    \n",
        "    return path\n",
        "\n",
        "# covert to c++ 2d array format\n",
        "def convert (path, pathName):\n",
        "    length = 0\n",
        "    print('double {}[{}][2] = '.format(pathName, len(path)))\n",
        "    print('{')\n",
        "    for i in range (0, len(path)):\n",
        "        length += 1\n",
        "        print('  {',path[i][0],',', path[i][1],'}, ')\n",
        "    print('};')\n",
        "    print('\\n')\n",
        "    print('length = ',length)"
      ],
      "execution_count": 5,
      "outputs": []
    },
    {
      "cell_type": "markdown",
      "metadata": {
        "id": "gkc0OdrtVxAS"
      },
      "source": [
        "## Graph here:"
      ]
    },
    {
      "cell_type": "code",
      "metadata": {
        "colab": {
          "base_uri": "https://localhost:8080/",
          "height": 624
        },
        "id": "RT4nxpfZG2sT",
        "outputId": "eba77b29-417c-4371-9d48-8ed58ed71bb5"
      },
      "source": [
        "path1 = [[1, 9.5], [3, 11], [6, 9], [9.35, 6.95]]\n",
        "\n",
        "# path_visualizer (original_path, (figure_size), (figure_x_and_y_limits), length_of_each_line_segment, max_angle_change_between_segments)\n",
        "path1 = path_visualizer(path1, (2, 2), (0, 0, 12, 12), 0.5, 20)"
      ],
      "execution_count": 6,
      "outputs": [
        {
          "output_type": "display_data",
          "data": {
            "text/plain": [
              "<Figure size 432x288 with 1 Axes>"
            ],
            "image/png": "[encoded data removed]"
          },
          "metadata": {
            "needs_background": "light"
          }
        }
      ]
    },
    {
      "cell_type": "code",
      "source": [
        "print(path1)"
      ],
      "metadata": {
        "colab": {
          "base_uri": "https://localhost:8080/"
        },
        "id": "GHhNu4aPWtCW",
        "outputId": "971e02a3-3c56-4979-cea4-8a684b441f33"
      },
      "execution_count": 7,
      "outputs": [
        {
          "output_type": "stream",
          "name": "stdout",
          "text": [
            "[[1.0, 9.5], [1.4005979962596538, 9.787741068469028], [1.8020551722735532, 10.057868875531193], [2.2055448478696924, 10.286329759870208], [2.612607942286051, 10.441530571166744], [3.0245752020398156, 10.496165825627882], [3.441821286608739, 10.44243455781583], [3.863567176270255, 10.295838812328805], [4.2883790326726485, 10.084313842952973], [4.714756164245374, 9.835042216129635], [5.141397840234811, 9.567962181125456], [5.567252749422919, 9.295464705634808], [5.9916041708556556, 9.024262860662812], [6.414207487127674, 8.75708613881995], [6.835276317092683, 8.49408363128273], [7.2552585044903894, 8.23419940050469], [7.674594002344124, 7.976211076918656], [8.093596053835594, 7.7192099998358845], [8.512445695481555, 7.4626624410137605], [8.931233051469448, 7.206300731238845], [9.35, 6.95]]\n"
          ]
        }
      ]
    },
    {
      "cell_type": "code",
      "source": [
        "convert(path1, \"path1\")"
      ],
      "metadata": {
        "id": "JEh_-lpVWuL1",
        "colab": {
          "base_uri": "https://localhost:8080/"
        },
        "outputId": "a9b5755e-2a47-48fe-c2d4-62cfd2897f48"
      },
      "execution_count": 9,
      "outputs": [
        {
          "output_type": "stream",
          "name": "stdout",
          "text": [
            "double path1[21][2] = \n",
            "{\n",
            "  { 1.0 , 9.5 }, \n",
            "  { 1.4005979962596538 , 9.787741068469028 }, \n",
            "  { 1.8020551722735532 , 10.057868875531193 }, \n",
            "  { 2.2055448478696924 , 10.286329759870208 }, \n",
            "  { 2.612607942286051 , 10.441530571166744 }, \n",
            "  { 3.0245752020398156 , 10.496165825627882 }, \n",
            "  { 3.441821286608739 , 10.44243455781583 }, \n",
            "  { 3.863567176270255 , 10.295838812328805 }, \n",
            "  { 4.2883790326726485 , 10.084313842952973 }, \n",
            "  { 4.714756164245374 , 9.835042216129635 }, \n",
            "  { 5.141397840234811 , 9.567962181125456 }, \n",
            "  { 5.567252749422919 , 9.295464705634808 }, \n",
            "  { 5.9916041708556556 , 9.024262860662812 }, \n",
            "  { 6.414207487127674 , 8.75708613881995 }, \n",
            "  { 6.835276317092683 , 8.49408363128273 }, \n",
            "  { 7.2552585044903894 , 8.23419940050469 }, \n",
            "  { 7.674594002344124 , 7.976211076918656 }, \n",
            "  { 8.093596053835594 , 7.7192099998358845 }, \n",
            "  { 8.512445695481555 , 7.4626624410137605 }, \n",
            "  { 8.931233051469448 , 7.206300731238845 }, \n",
            "  { 9.35 , 6.95 }, \n",
            "};\n",
            "\n",
            "\n",
            "length =  21\n"
          ]
        }
      ]
    },
    {
      "cell_type": "code",
      "source": [],
      "metadata": {
        "id": "y6_pQURCLL_z"
      },
      "execution_count": null,
      "outputs": []
    }
  ]
}